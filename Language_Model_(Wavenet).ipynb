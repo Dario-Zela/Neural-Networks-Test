{
  "nbformat": 4,
  "nbformat_minor": 0,
  "metadata": {
    "colab": {
      "provenance": [],
      "authorship_tag": "ABX9TyMOdAR/Ve9NZqnI3p7GXKwP",
      "include_colab_link": true
    },
    "kernelspec": {
      "name": "python3",
      "display_name": "Python 3"
    },
    "language_info": {
      "name": "python"
    },
    "accelerator": "GPU",
    "gpuClass": "standard"
  },
  "cells": [
    {
      "cell_type": "markdown",
      "metadata": {
        "id": "view-in-github",
        "colab_type": "text"
      },
      "source": [
        "<a href=\"https://colab.research.google.com/github/Dario-Zela/Neural-Networks-Test/blob/main/Language_Model_(Wavenet).ipynb\" target=\"_parent\"><img src=\"https://colab.research.google.com/assets/colab-badge.svg\" alt=\"Open In Colab\"/></a>"
      ]
    },
    {
      "cell_type": "code",
      "execution_count": null,
      "metadata": {
        "id": "QsEM4mWpNdgt"
      },
      "outputs": [],
      "source": [
        "import torch\n",
        "import string\n",
        "import torch.nn.functional as F\n",
        "import matplotlib.pyplot as plt\n",
        "import torch.nn as nn"
      ]
    },
    {
      "cell_type": "code",
      "source": [
        "device = torch.device('cpu')\n",
        "if torch.cuda.is_available():\n",
        "    device = torch.device('cuda')\n",
        "print(device)"
      ],
      "metadata": {
        "colab": {
          "base_uri": "https://localhost:8080/"
        },
        "id": "J4DELOAlZXXv",
        "outputId": "0e875441-67ee-44b8-d8a7-88c9bcba50ca"
      },
      "execution_count": null,
      "outputs": [
        {
          "output_type": "stream",
          "name": "stdout",
          "text": [
            "cuda\n"
          ]
        }
      ]
    },
    {
      "cell_type": "code",
      "source": [
        "words = open(\"names.txt\", \"r\").read().splitlines()\n",
        "chars = string.ascii_lowercase\n",
        "stoi = {s:i+1 for i,s in enumerate(chars)}\n",
        "stoi[\".\"] = 0\n",
        "itos = {i:s for s,i in stoi.items()}\n",
        "vocab_size = len(itos)"
      ],
      "metadata": {
        "id": "UcoitihlNiYh"
      },
      "execution_count": null,
      "outputs": []
    },
    {
      "cell_type": "code",
      "source": [
        "block_size = 8\n",
        "\n",
        "def build_dataset(words):\n",
        "  X, Y = [], []\n",
        "\n",
        "  for w in words:\n",
        "    context = [0] * block_size\n",
        "    for c in w+\".\":\n",
        "      ix = stoi[c]\n",
        "      X.append(context)\n",
        "      Y.append(ix)\n",
        "      context = context[1:] + [ix]\n",
        "  print(torch.tensor(X).shape, torch.tensor(Y).shape)\n",
        "  return torch.tensor(X), torch.tensor(Y)\n",
        "\n",
        "import random\n",
        "random.shuffle(words)\n",
        "\n",
        "n1 = int(0.8 * len(words))\n",
        "n2 = int(0.9 * len(words))\n",
        "\n",
        "Xtr, Ytr = build_dataset(words[:n1])\n",
        "Xdev, Ydev = build_dataset(words[n1:n2])\n",
        "Xte, Yte = build_dataset(words[n2:])"
      ],
      "metadata": {
        "colab": {
          "base_uri": "https://localhost:8080/"
        },
        "id": "FkHwElQENoOM",
        "outputId": "79cfb437-b5a5-4759-a634-367c10e51547"
      },
      "execution_count": null,
      "outputs": [
        {
          "output_type": "stream",
          "name": "stdout",
          "text": [
            "torch.Size([182617, 8]) torch.Size([182617])\n",
            "torch.Size([22740, 8]) torch.Size([22740])\n",
            "torch.Size([22789, 8]) torch.Size([22789])\n"
          ]
        }
      ]
    },
    {
      "cell_type": "code",
      "source": [
        "n_embed = 10\n",
        "n_hidden = 200\n",
        "n_merged = 2\n",
        "batch_size = 4\n",
        "\n",
        "model = nn.Sequential(\n",
        "    nn.Embedding(vocab_size, n_embed),\n",
        "    nn.Unflatten(1,(-1,n_merged)), nn.Flatten(2), nn.Linear(n_embed * n_merged, n_hidden, bias=False), nn.Flatten(0,1), nn.BatchNorm1d(n_hidden), nn.Unflatten(0,(-1, block_size // n_merged)), nn.Tanh(),\n",
        "    nn.Unflatten(1,(-1,n_merged)), nn.Flatten(2), nn.Linear(n_hidden * n_merged, n_hidden, bias=False), nn.Flatten(0,1), nn.BatchNorm1d(n_hidden), nn.Unflatten(0,(-1, block_size // (n_merged * 2))), nn.Tanh(),\n",
        "    nn.Unflatten(1,(-1,n_merged)), nn.Flatten(2), nn.Linear(n_hidden * n_merged, n_hidden, bias=False), nn.Flatten(0,1), nn.BatchNorm1d(n_hidden), nn.Tanh(),\n",
        "    nn.Linear(n_hidden, vocab_size)\n",
        ")\n",
        "\n",
        "layers = [i for i in model.modules()]\n",
        "\n",
        "with torch.no_grad():\n",
        "  [i for i in model.modules()][-1].weight  *= 0.01  \n",
        "\n",
        "parameters = [i for i in model.parameters()]"
      ],
      "metadata": {
        "id": "065_FQcNNpvn"
      },
      "execution_count": null,
      "outputs": []
    },
    {
      "cell_type": "code",
      "source": [
        "max_step = 200000\n",
        "lossi = []\n",
        "\n",
        "for i in range(max_step):\n",
        "\n",
        "  ix = torch.randint(0,Xtr.shape[0], (batch_size,))\n",
        "  x = Xtr[ix]\n",
        "\n",
        "  x = model(x)\n",
        "  loss = F.cross_entropy(x, Ytr[ix])\n",
        "\n",
        "  model.zero_grad()\n",
        "\n",
        "  loss.backward()\n",
        "\n",
        "  lr = 0.1 if i < 100000 else 0.01\n",
        "  for p in parameters:\n",
        "    p.data += - lr * p.grad\n",
        "\n",
        "  if i % 10000 == 0:\n",
        "    print(f\"{i:7d}/{max_step:7d}: {loss.item():.4f}\")\n",
        "  \n",
        "  lossi.append(loss.log10().item())"
      ],
      "metadata": {
        "colab": {
          "base_uri": "https://localhost:8080/"
        },
        "id": "HJiH0EUwNwny",
        "outputId": "43859ee0-1681-4242-af25-803aad3b1b7d"
      },
      "execution_count": null,
      "outputs": [
        {
          "metadata": {
            "tags": null
          },
          "name": "stdout",
          "output_type": "stream",
          "text": [
            "      0/ 200000: 3.3118\n",
            "  10000/ 200000: 2.9306\n",
            "  20000/ 200000: 3.0087\n",
            "  30000/ 200000: 2.0653\n",
            "  40000/ 200000: 2.3833\n",
            "  50000/ 200000: 4.0307\n",
            "  60000/ 200000: 2.9606\n",
            "  70000/ 200000: 3.0681\n",
            "  80000/ 200000: 3.3308\n",
            "  90000/ 200000: 3.0559\n",
            " 100000/ 200000: 2.9824\n",
            " 110000/ 200000: 2.6824\n",
            " 120000/ 200000: 1.7208\n",
            " 130000/ 200000: 2.2945\n",
            " 140000/ 200000: 2.9037\n",
            " 150000/ 200000: 2.8155\n",
            " 160000/ 200000: 2.4985\n",
            " 170000/ 200000: 1.7421\n",
            " 180000/ 200000: 2.3480\n",
            " 190000/ 200000: 2.0401\n"
          ]
        }
      ]
    },
    {
      "cell_type": "code",
      "source": [
        "plt.plot(torch.tensor(lossi).view(-1,1000).mean(1))"
      ],
      "metadata": {
        "colab": {
          "base_uri": "https://localhost:8080/",
          "height": 282
        },
        "id": "K9mLg6yRNw5a",
        "outputId": "5607b1ab-9cfb-4e84-9593-d1b474c2c028"
      },
      "execution_count": null,
      "outputs": [
        {
          "output_type": "execute_result",
          "data": {
            "text/plain": [
              "[<matplotlib.lines.Line2D at 0x7fbf11e087f0>]"
            ]
          },
          "metadata": {},
          "execution_count": 67
        },
        {
          "output_type": "display_data",
          "data": {
            "text/plain": [
              "<Figure size 432x288 with 1 Axes>"
            ],
            "image/png": "[encoded data removed]"
          },
          "metadata": {
            "needs_background": "light"
          }
        }
      ]
    },
    {
      "cell_type": "code",
      "source": [
        "plt.figure(figsize=(8,8))\n",
        "C = [i for i in layers[0].parameters()][0]\n",
        "\n",
        "plt.scatter(C[:,0].detach(), C[:,1].detach(), s=200)\n",
        "\n",
        "for i in range(C.shape[0]):\n",
        "  plt.text(C[i,0].item(), C[i,1].item(), itos[i], ha=\"center\", va=\"center\", color=\"white\")\n",
        "plt.grid(\"minor\")"
      ],
      "metadata": {
        "colab": {
          "base_uri": "https://localhost:8080/",
          "height": 483
        },
        "id": "qrgl3NDLNxOh",
        "outputId": "ce60089b-c91a-4bfc-eb34-e97c95158e73"
      },
      "execution_count": null,
      "outputs": [
        {
          "output_type": "display_data",
          "data": {
            "text/plain": [
              "<Figure size 576x576 with 1 Axes>"
            ],
            "image/png": "[encoded data removed]"
          },
          "metadata": {
            "needs_background": "light"
          }
        }
      ]
    },
    {
      "cell_type": "code",
      "source": [
        "model.eval()\n",
        "\n",
        "for _ in range(20):\n",
        "  out = []\n",
        "  context = [0] * block_size\n",
        "\n",
        "  for _ in range(200):\n",
        "\n",
        "      x = torch.tensor([context])\n",
        "      x = model(x)\n",
        "\n",
        "      probs = F.softmax(x, dim= 1)\n",
        "\n",
        "      ix = torch.multinomial(probs, num_samples = 1).item()\n",
        "      context = context[1:] + [ix]\n",
        "\n",
        "      out.append(itos[ix])\n",
        "\n",
        "      if(ix == 0): \n",
        "        break\n",
        "  \n",
        "  if out[:-1] in words:\n",
        "    print(\"duplicate\")\n",
        "\n",
        "  print(\"\".join(out[:-1]))"
      ],
      "metadata": {
        "colab": {
          "base_uri": "https://localhost:8080/"
        },
        "id": "CHsoE3qSNxzb",
        "outputId": "f7592212-1fff-4978-a6c0-0d9adc429a8c"
      },
      "execution_count": null,
      "outputs": [
        {
          "output_type": "stream",
          "name": "stdout",
          "text": [
            "plyaoay\n",
            "zaagr\n",
            "elryi\n",
            "daloic\n",
            "cniyle\n",
            "mete\n",
            "dnltyln\n",
            "jels\n",
            "jirwh\n",
            "iirenaan\n",
            "keqznu\n",
            "julml\n",
            "krrr\n",
            "kaeynktkaa\n",
            "klasay\n",
            "brjvy\n",
            "camuen\n",
            "eellry\n",
            "oiaayr\n",
            "irilnl\n"
          ]
        }
      ]
    }
  ]
}