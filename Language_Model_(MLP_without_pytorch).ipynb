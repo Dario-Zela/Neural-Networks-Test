{
  "nbformat": 4,
  "nbformat_minor": 0,
  "metadata": {
    "colab": {
      "provenance": [],
      "authorship_tag": "ABX9TyO5hULquYnMGDxPW5W+JgAV",
      "include_colab_link": true
    },
    "kernelspec": {
      "name": "python3",
      "display_name": "Python 3"
    },
    "language_info": {
      "name": "python"
    },
    "gpuClass": "standard"
  },
  "cells": [
    {
      "cell_type": "markdown",
      "metadata": {
        "id": "view-in-github",
        "colab_type": "text"
      },
      "source": [
        "<a href=\"https://colab.research.google.com/github/Dario-Zela/Neural-Networks-Test/blob/main/Language_Model_(MLP_without_pytorch).ipynb\" target=\"_parent\"><img src=\"https://colab.research.google.com/assets/colab-badge.svg\" alt=\"Open In Colab\"/></a>"
      ]
    },
    {
      "cell_type": "code",
      "execution_count": null,
      "metadata": {
        "id": "7cunUbDrb_ey"
      },
      "outputs": [],
      "source": [
        "import torch\n",
        "import string\n",
        "import torch.nn.functional as F\n",
        "import matplotlib.pyplot as plt\n",
        "%matplotlib inline"
      ]
    },
    {
      "cell_type": "code",
      "source": [
        "words = open(\"names.txt\", \"r\").read().splitlines()\n",
        "chars = string.ascii_lowercase\n",
        "stoi = {s:i+1 for i,s in enumerate(chars)}\n",
        "stoi[\".\"] = 0\n",
        "itos = {i:s for s,i in stoi.items()}\n",
        "vocab_size = len(itos)"
      ],
      "metadata": {
        "id": "pQm0FaKCgCoE"
      },
      "execution_count": null,
      "outputs": []
    },
    {
      "cell_type": "code",
      "source": [
        "block_size = 3\n",
        "\n",
        "def build_dataset(words):\n",
        "  X, Y = [], []\n",
        "\n",
        "  for w in words:\n",
        "    context = [0] * block_size\n",
        "    for c in w+\".\":\n",
        "      ix = stoi[c]\n",
        "      X.append(context)\n",
        "      Y.append(ix)\n",
        "      context = context[1:] + [ix]\n",
        "  return torch.tensor(X), torch.tensor(Y)\n",
        "\n",
        "import random\n",
        "random.shuffle(words)\n",
        "\n",
        "n1 = int(0.8 * len(words))\n",
        "n2 = int(0.9 * len(words))\n",
        "\n",
        "Xtr, Ytr = build_dataset(words[:n1])\n",
        "Xdev, Ydev = build_dataset(words[n1:n2])\n",
        "Xte, Yte = build_dataset(words[n2:])"
      ],
      "metadata": {
        "id": "6SmTTuLWgwU3"
      },
      "execution_count": null,
      "outputs": []
    },
    {
      "cell_type": "code",
      "source": [
        "n_embed = 2\n",
        "n_hidden = 200\n",
        "\n",
        "C = torch.randn((vocab_size, n_embed))\n",
        "W1 = torch.randn((n_embed * block_size, n_hidden))\n",
        "W2 = torch.randn((n_hidden, vocab_size))\n",
        "B2 = torch.randn(vocab_size) * 0\n",
        "\n",
        "bngain = torch.ones((1, n_hidden))\n",
        "bnbias = torch.zeros((1, n_hidden))\n",
        "\n",
        "bnmean = torch.zeros((1, n_hidden))\n",
        "bnstd = torch.ones((1, n_hidden))\n",
        "\n",
        "parameters = [C, W1, W2, B2, bngain, bnbias]\n",
        "for p in parameters:\n",
        "  p.requires_grad = True"
      ],
      "metadata": {
        "id": "RJrAlmYhh9hH"
      },
      "execution_count": null,
      "outputs": []
    },
    {
      "cell_type": "code",
      "source": [
        "max_step = 10000\n",
        "batch_size = 32\n",
        "lossi = []\n",
        "\n",
        "for i in range(max_step):\n",
        "\n",
        "  ix = torch.randint(0,Xtr.shape[0], (32,))\n",
        "\n",
        "  emb = C[Xtr[ix]]\n",
        "  h = emb.view(emb.shape[0], -1) @ W1\n",
        "\n",
        "  bnmeani = h.mean(0, keepdim= True)\n",
        "  bnstdi = h.std(0, keepdim= True)\n",
        "\n",
        "  h = bngain * (h - bnmeani) / bnstdi + bnbias\n",
        "  h = torch.tanh(h)\n",
        "\n",
        "  with torch.no_grad():\n",
        "    bnmean = 0.999 * bnmean + 0.001 * bnmeani\n",
        "    bnstd = 0.999 * bnstd + 0.001 * bnstdi\n",
        "\n",
        "  logits = h @ W2 + B2\n",
        "  loss = F.cross_entropy(logits, Ytr[ix])\n",
        "\n",
        "  for p in parameters:\n",
        "    p.grad = None\n",
        "\n",
        "  loss.backward()\n",
        "\n",
        "  lr = 0.1 if i < 10000 else 0.01\n",
        "\n",
        "  for p in parameters:\n",
        "    p.data += - lr * p.grad\n",
        "\n",
        "  if i % 1000 == 0:\n",
        "    print(f\"{i:7d}/{max_step:7d}: {loss.item():.4f}\")\n",
        "  \n",
        "  lossi.append(loss.log10().item())"
      ],
      "metadata": {
        "colab": {
          "base_uri": "https://localhost:8080/"
        },
        "id": "xQLC1tNej5Ms",
        "outputId": "02c38950-b31a-47a7-b71a-44681c816031"
      },
      "execution_count": null,
      "outputs": [
        {
          "output_type": "stream",
          "name": "stdout",
          "text": [
            "      0/  10000: 2.4760\n",
            "   1000/  10000: 2.6303\n",
            "   2000/  10000: 2.4849\n",
            "   3000/  10000: 2.4349\n",
            "   4000/  10000: 2.4412\n",
            "   5000/  10000: 2.5903\n",
            "   6000/  10000: 2.6746\n",
            "   7000/  10000: 2.2262\n",
            "   8000/  10000: 2.4309\n",
            "   9000/  10000: 2.1893\n"
          ]
        }
      ]
    },
    {
      "cell_type": "code",
      "source": [
        "plt.plot(torch.tensor(lossi).view(-1,1000).mean(1));"
      ],
      "metadata": {
        "colab": {
          "base_uri": "https://localhost:8080/",
          "height": 265
        },
        "id": "jq70UyE7sEqy",
        "outputId": "6f8c6d99-7b8c-452a-b170-a6bb5fbabd9b"
      },
      "execution_count": null,
      "outputs": [
        {
          "output_type": "display_data",
          "data": {
            "text/plain": [
              "<Figure size 432x288 with 1 Axes>"
            ],
            "image/png": "[encoded data removed]"
          },
          "metadata": {
            "needs_background": "light"
          }
        }
      ]
    },
    {
      "cell_type": "code",
      "source": [
        "@torch.no_grad()\n",
        "def split_loss(split):\n",
        "  x,y = {\n",
        "      \"train\": {Xtr, Ytr},\n",
        "      \"val\" : {Xdev, Ydev},\n",
        "      \"test\": {Xte, Yte}\n",
        "  }[split]\n",
        "\n",
        "  emb = C[x]\n",
        "  h = emb.view(-1,6)@ W1\n",
        "  h = bngain * (h - bnmean) / bnstd + bnbias\n",
        "  h = torch.tanh(h)\n",
        "\n",
        "  logits = h @ W2 + B2\n",
        "  loss = F.cross_entropy(logits, y)\n",
        "\n",
        "  print(split, loss.item())\n",
        "\n",
        "split_loss(\"train\")\n",
        "split_loss(\"val\")\n",
        "split_loss(\"test\")"
      ],
      "metadata": {
        "colab": {
          "base_uri": "https://localhost:8080/"
        },
        "id": "qHntMWDvUE-0",
        "outputId": "f3467c57-317f-4ab3-c0ac-f5b68ca7b05e"
      },
      "execution_count": null,
      "outputs": [
        {
          "output_type": "stream",
          "name": "stdout",
          "text": [
            "train 2.2629010677337646\n",
            "val 2.2817766666412354\n",
            "test 2.263972282409668\n"
          ]
        }
      ]
    },
    {
      "cell_type": "code",
      "source": [
        "plt.figure(figsize=(8,8))\n",
        "plt.scatter(C[:,0].data, C[:,1].data, s=200)\n",
        "\n",
        "for i in range(C.shape[0]):\n",
        "  plt.text(C[i,0].item(), C[i,1].item(), itos[i], ha=\"center\", va=\"center\", color=\"white\")\n",
        "plt.grid(\"minor\")"
      ],
      "metadata": {
        "colab": {
          "base_uri": "https://localhost:8080/",
          "height": 483
        },
        "id": "5XC-JFJVuUw4",
        "outputId": "050d4440-30e1-4d67-a3bd-212c90c5c643"
      },
      "execution_count": null,
      "outputs": [
        {
          "output_type": "display_data",
          "data": {
            "text/plain": [
              "<Figure size 576x576 with 1 Axes>"
            ],
            "image/png": "[encoded data removed]"
          },
          "metadata": {
            "needs_background": "light"
          }
        }
      ]
    },
    {
      "cell_type": "code",
      "source": [
        "for _ in range(20):\n",
        "  out = []\n",
        "  context = [0] * block_size\n",
        "\n",
        "  for _ in range(200):\n",
        "\n",
        "      emb = C[torch.tensor([context])]\n",
        "      h = emb.view(-1,6)@ W1\n",
        "      h = bngain * (h - bnmean) / bnstd + bnbias\n",
        "      h = torch.tanh(h)\n",
        "\n",
        "      logits = h @ W2 + B2\n",
        "      probs = F.softmax(logits, dim= 1)\n",
        "\n",
        "      ix = torch.multinomial(probs, num_samples = 1).item()\n",
        "      context = context[1:] + [ix]\n",
        "\n",
        "      out.append(itos[ix])\n",
        "\n",
        "      if(ix == 0): \n",
        "        break\n",
        "  \n",
        "  if out[:-1] in words:\n",
        "    print(\"duplicate\")\n",
        "\n",
        "  print(\"\".join(out[:-1]))"
      ],
      "metadata": {
        "colab": {
          "base_uri": "https://localhost:8080/"
        },
        "id": "Vr-KSpscvSa5",
        "outputId": "4bd0b84c-488e-4b8b-f159-633bd1d41a22"
      },
      "execution_count": null,
      "outputs": [
        {
          "output_type": "stream",
          "name": "stdout",
          "text": [
            "volitsea\n",
            "aher\n",
            "laylin\n",
            "chomi\n",
            "dontloxnelle\n",
            "zahoweni\n",
            "kaon\n",
            "aam\n",
            "nayah\n",
            "oza\n",
            "reon\n",
            "elion\n",
            "karon\n",
            "aud\n",
            "eeveagianneb\n",
            "neca\n",
            "sranyolla\n",
            "vratane\n",
            "andly\n",
            "caa\n"
          ]
        }
      ]
    }
  ]
}